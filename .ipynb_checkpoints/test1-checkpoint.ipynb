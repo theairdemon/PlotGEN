{
 "cells": [
  {
   "cell_type": "markdown",
   "metadata": {},
   "source": [
    "# test1\n",
    "### just messin around with some ideas\n",
    "---"
   ]
  },
  {
   "cell_type": "markdown",
   "metadata": {},
   "source": [
    "### Imports"
   ]
  },
  {
   "cell_type": "code",
   "execution_count": 112,
   "metadata": {},
   "outputs": [],
   "source": [
    "import nltk\n",
    "from nltk.corpus import gutenberg as gb\n",
    "from nltk import ngrams\n",
    "import os, re, random"
   ]
  },
  {
   "cell_type": "markdown",
   "metadata": {},
   "source": [
    "### Conceptual Ideas"
   ]
  },
  {
   "cell_type": "code",
   "execution_count": 4,
   "metadata": {},
   "outputs": [],
   "source": [
    "emma_sents = gb.sents('austen-emma.txt')"
   ]
  },
  {
   "cell_type": "code",
   "execution_count": 40,
   "metadata": {},
   "outputs": [],
   "source": [
    "f = open('data\\\\call_of_cthulhu', 'r', encoding=\"utf8\")\n",
    "cthulhu_str = f.read()\n",
    "f.close()"
   ]
  },
  {
   "cell_type": "code",
   "execution_count": 44,
   "metadata": {},
   "outputs": [],
   "source": [
    "cthulhu_para_init = cthulhu_str.split(\"\\n\")\n",
    "cthulhu_para = []\n",
    "for para in cthulhu_para_init:\n",
    "    if len(para) > 2:\n",
    "        cthulhu_para.append(para)"
   ]
  },
  {
   "cell_type": "code",
   "execution_count": 86,
   "metadata": {},
   "outputs": [],
   "source": [
    "cthulhu_str_fix = \" \".join(cthulhu_para)\n",
    "cthulhu_words_init = re.split('; |\\“|\\—|\\”|\\(|\\n|\\)| ',cthulhu_str_fix)\n",
    "cthulhu_words = []\n",
    "for word in cthulhu_words_init:\n",
    "    if len(word) > 0:\n",
    "        if \".\" == word[-1] or \",\" == word[-1]:\n",
    "            first_word = word[:-1]\n",
    "            second_word = word[-1]\n",
    "            cthulhu_words.append(first_word)\n",
    "            cthulhu_words.append(second_word)\n",
    "        else:\n",
    "            cthulhu_words.append(word)\n",
    "#print(cthulhu_words)"
   ]
  },
  {
   "cell_type": "code",
   "execution_count": 97,
   "metadata": {},
   "outputs": [],
   "source": [
    "bigrams = list(ngrams(cthulhu_words, 2))\n",
    "bigram_dict = {}\n",
    "for bigram in bigrams:\n",
    "    if bigram[0] in bigram_dict:\n",
    "        if bigram[1] in bigram_dict[bigram[0]]:\n",
    "            bigram_dict[bigram[0]][bigram[1]] += 1\n",
    "        else:\n",
    "            bigram_dict[bigram[0]][bigram[1]] = 1\n",
    "    else:\n",
    "        bigram_dict[bigram[0]] = {}\n",
    "        bigram_dict[bigram[0]][bigram[1]] = 1"
   ]
  },
  {
   "cell_type": "code",
   "execution_count": 108,
   "metadata": {},
   "outputs": [],
   "source": [
    "sentence_starters = [key for key in list(bigram_dict.keys())if len(key) > 0 \n",
    "                     and key[0] in \"ABCDEFGHIJKLMNOPQRSTUVWXYZ\"]"
   ]
  },
  {
   "cell_type": "code",
   "execution_count": 140,
   "metadata": {},
   "outputs": [],
   "source": [
    "current_word = random.choice(sentence_starters)\n",
    "for i in range(1):\n",
    "    #print(current_word)\n",
    "    poss_follows = list(bigram_dict[current_word].keys())\n",
    "    poss_follows_sorted = sorted(bigram_dict[current_word].items(), key = lambda kv:(kv[1], kv[0]), \n",
    "                                 reverse = True)\n",
    "    #print(poss_follows_sorted)"
   ]
  },
  {
   "cell_type": "code",
   "execution_count": null,
   "metadata": {},
   "outputs": [],
   "source": [
    "# new idea: word2vec, but with plots"
   ]
  },
  {
   "cell_type": "code",
   "execution_count": null,
   "metadata": {},
   "outputs": [],
   "source": []
  }
 ],
 "metadata": {
  "kernelspec": {
   "display_name": "Python 3",
   "language": "python",
   "name": "python3"
  },
  "language_info": {
   "codemirror_mode": {
    "name": "ipython",
    "version": 3
   },
   "file_extension": ".py",
   "mimetype": "text/x-python",
   "name": "python",
   "nbconvert_exporter": "python",
   "pygments_lexer": "ipython3",
   "version": "3.7.3"
  }
 },
 "nbformat": 4,
 "nbformat_minor": 2
}
