{
 "cells": [
  {
   "cell_type": "markdown",
   "metadata": {},
   "source": [
    "# Project: PlotGEN\n",
    "\n",
    "### My Artistic Goals\n",
    "My vision for this project has certainly evolved throughout its lifespan. I began with the naive assumption that I could generate an entirely new plotline for a story after just 10 weeks of programming, to the point where a human writer would only be needed to fill in the precise details here and there.I began by building a series of functions that work together to generate characters and setting details, and provide the interactions for those objects. However, I quickly found that to be too restrictive, since it only encompassed one type of plotline.\n",
    "\n",
    "From there, I began this plotline analysis, where I analyzed the frequency of postive and engative words in a text to find the plotline structure. This can be visually represented on a graph, which helps a lot with visualizing what info the computer is finding from the text. From there, I wasn't entirely sure where to go. Should I continue with the text analysis, or should I try to generate new plotlines from these?\n",
    "\n",
    "I decided to go with more text analysis, because I think the plotline generation is a project that will take another few terms before it makes anything useful. I also wanted to see what additional info I could pull from the text, which will definitely help with the plot generation in the future. From my previous plotline analysis, I was able to pull the minima and maxima of the plotline, and I used that to get the \"most important\" paragraphs from the text. I also used the spaCy library to get characters and locations from the text.\n",
    "\n",
    "Essentially, this project went from plot generation to text analysis, and my final result is one that pulls the \"most important\" paragraphs from a text. I put quotes around \"most important\" because the computer doesn't actually know if they're important to the overall story or not. It just pulls the paragraphs for the top five minima/maxima and stores them in a summary string. Sometimes they read like a decent summary, and other times they don't make any sense. Either way, they definitely provide some very interesting insights into how a program can determines the important plot points.\n",
    "\n",
    "I had a lot of fun with this project, and I will definitely be continuing to work on this for a long time! "
   ]
  },
  {
   "cell_type": "markdown",
   "metadata": {},
   "source": [
    "---\n",
    "### Imports"
   ]
  },
  {
   "cell_type": "code",
   "execution_count": 26,
   "metadata": {},
   "outputs": [],
   "source": [
    "from nltk.corpus import gutenberg as gb\n",
    "import nltk\n",
    "from nltk import tokenize\n",
    "import matplotlib.pyplot as plt\n",
    "import numpy as np\n",
    "import random\n",
    "import spacy"
   ]
  },
  {
   "cell_type": "markdown",
   "metadata": {},
   "source": [
    "---\n",
    "### Text Retrieval\n",
    "- Get the text(s)\n",
    "\n",
    "Note for forkers: if you're on a Linux or Unix based system (like Mac), you'll have to change the double backslashes to forward slashes to access the Lovecraft files"
   ]
  },
  {
   "cell_type": "code",
   "execution_count": 3,
   "metadata": {},
   "outputs": [],
   "source": [
    "# Read in Call of Cthulhu\n",
    "f = open('data\\\\call_of_cthulhu', 'r', encoding=\"utf8\")\n",
    "cthulhu_str = f.read()\n",
    "f.close()"
   ]
  },
  {
   "cell_type": "code",
   "execution_count": 21,
   "metadata": {
    "scrolled": true
   },
   "outputs": [],
   "source": [
    "# Read in Color Out of Space\n",
    "f = open('data\\\\color_out_of_space.txt', 'r')\n",
    "color_str = f.read()\n",
    "f.close()"
   ]
  },
  {
   "cell_type": "code",
   "execution_count": 5,
   "metadata": {},
   "outputs": [],
   "source": [
    "# Read in Shadow Over Innsmouth\n",
    "f = open('data\\\\shadow_over_innsmouth.txt', 'r')\n",
    "innsmouth_str = f.read()\n",
    "f.close()"
   ]
  },
  {
   "cell_type": "code",
   "execution_count": 6,
   "metadata": {},
   "outputs": [],
   "source": [
    "# Read in Shadow Out of Time\n",
    "f = open('data\\\\shadow_out_of_time.txt', 'r')\n",
    "time_str = f.read()\n",
    "f.close()"
   ]
  },
  {
   "cell_type": "code",
   "execution_count": 7,
   "metadata": {},
   "outputs": [],
   "source": [
    "# Read in A New Hope\n",
    "f = open('data\\\\EpisodeIV_dialogues.txt', 'r')\n",
    "starwarsIV = f.read()\n",
    "f.close()"
   ]
  },
  {
   "cell_type": "markdown",
   "metadata": {},
   "source": [
    "---\n",
    "### Text Analysis (resurrected)\n",
    "Some resurrected functions\n",
    "- Analyze the text(s)\n",
    "- Get character list, main character, locations, etc\n",
    "- Try to get general plotline structure"
   ]
  },
  {
   "cell_type": "code",
   "execution_count": 8,
   "metadata": {},
   "outputs": [],
   "source": [
    "# Get characters from text\n",
    "def get_things(input_text_str, tag):\n",
    "    # some of this code is taken from the spaCy tutorial\n",
    "    # Load English tokenizer, tagger, parser, NER and word vectors\n",
    "    nlp = spacy.load(\"en_core_web_sm\")\n",
    "    text = (input_text_str)\n",
    "    doc = nlp(text)\n",
    "    \n",
    "    entity_good = [entity.text for entity in doc.ents if entity.label_ == tag]\n",
    "    char_dict = {}\n",
    "    for ent_text in entity_good:\n",
    "        if ent_text in char_dict:\n",
    "            char_dict[ent_text] += 1\n",
    "        else:\n",
    "            char_dict[ent_text] = 1\n",
    "    char_list = [(key, char_dict[key]) for key in list(char_dict.keys()) if char_dict[key] > 1]\n",
    "    char_list.sort(key=lambda x: x[1], reverse=True)\n",
    "    return char_list"
   ]
  },
  {
   "cell_type": "markdown",
   "metadata": {},
   "source": [
    "---\n",
    "### Build plot structure\n",
    "- Using positive / negative word frequency to form a \"plot-line\""
   ]
  },
  {
   "cell_type": "code",
   "execution_count": 9,
   "metadata": {},
   "outputs": [],
   "source": [
    "def tokenize_paragraphs(input_paragraphs):\n",
    "    tokenized_paras = []\n",
    "    for paragraph in input_paragraphs:\n",
    "        sentences = []\n",
    "        if len(paragraph) < 2:\n",
    "            continue\n",
    "        token_para = tokenize.sent_tokenize(paragraph)\n",
    "        for sentence in token_para:\n",
    "            if len(sentence) < 5:\n",
    "                continue\n",
    "            token_sentence = tokenize.word_tokenize(sentence)\n",
    "            sentences.append(token_sentence)\n",
    "        if len(sentences) < 2:\n",
    "            continue\n",
    "        tokenized_paras.append(sentences)\n",
    "    return tokenized_paras"
   ]
  },
  {
   "cell_type": "code",
   "execution_count": 45,
   "metadata": {},
   "outputs": [],
   "source": [
    "# Get structure of plot via sentiment analysis\n",
    "def get_plot_struct(input_text_str, para_delimiter=\"\\n\"):\n",
    "    paragraphs = input_text_str.split(para_delimiter)\n",
    "    tokenized_paras = tokenize_paragraphs(paragraphs)\n",
    "    \n",
    "    posf = open(\"data\\\\opinion-lexicon-English\\\\positive-words.txt\", 'r')\n",
    "    negf = open(\"data\\\\opinion-lexicon-English\\\\negative-words.txt\", 'r')\n",
    "    \n",
    "    pos_words = posf.read()\n",
    "    neg_words = negf.read()\n",
    "    \n",
    "    posf.close()\n",
    "    negf.close()\n",
    "    \n",
    "    pos_set = set(pos_words.split(\"\\n\"))\n",
    "    neg_set = set(neg_words.split(\"\\n\"))\n",
    "    \n",
    "    storyline = [[],[]]\n",
    "    len_tokenized_paras = len(tokenized_paras)\n",
    "    for i in range(len_tokenized_paras):\n",
    "        para = tokenized_paras[i]\n",
    "        total_pos = 0\n",
    "        total_neg = 0\n",
    "        total_sents = 0\n",
    "        \n",
    "        valid_para = False\n",
    "        \n",
    "        for sent in para:\n",
    "            valid_sent = False\n",
    "            points_pos = 0\n",
    "            points_neg = 0\n",
    "            \n",
    "            for word in sent:\n",
    "                if word in pos_set:\n",
    "                    points_pos += 1\n",
    "                    valid_sent = True\n",
    "                    continue\n",
    "                elif word in neg_set:\n",
    "                    points_neg += 1\n",
    "                    valid_sent = True\n",
    "                    continue                \n",
    "            \n",
    "            if not valid_sent:\n",
    "                continue\n",
    "            \n",
    "            total_sents += 1\n",
    "            \n",
    "            if points_pos > points_neg:\n",
    "                total_pos += (points_pos)\n",
    "            elif points_neg > points_pos:\n",
    "                total_neg += (points_neg)\n",
    "            \n",
    "            if not valid_para and valid_sent:\n",
    "                valid_para = True\n",
    "        \n",
    "        if not valid_para:\n",
    "            continue\n",
    "        \n",
    "        #storyline[0].append(float(i) * 100.0 / float(len_tokenized_paras))\n",
    "        storyline[0].append(i)\n",
    "        \n",
    "        if total_pos > total_neg:\n",
    "            storyline[1].append(total_pos/total_sents)\n",
    "        elif total_neg > total_pos:\n",
    "            storyline[1].append(-total_neg/total_sents)\n",
    "        else:\n",
    "            storyline[1].append(0.0)\n",
    "    \n",
    "    for i in range(len(storyline[1])):\n",
    "        if i == 0 or i == len(storyline[1])-1:\n",
    "            continue\n",
    "                \n",
    "        if storyline[1][i] == 0.0:\n",
    "            storyline[1][i] = (storyline[1][i-1] + storyline[1][i+1]) / 2\n",
    "            continue\n",
    "\n",
    "        if storyline[1][i] > 0.0 and (storyline[1][i-1] < 0 and  storyline[1][i+1] < 0):\n",
    "            storyline[1][i] = (storyline[1][i-1] + storyline[1][i+1]) / 2\n",
    "        elif storyline[1][i] < 0.0 and (storyline[1][i-1] > 0 and  storyline[1][i+1] > 0):\n",
    "            storyline[1][i] = (storyline[1][i-1] + storyline[1][i+1]) / 2\n",
    "    \n",
    "    max_value = max([abs(min(storyline[1])), abs(max(storyline[1]))])\n",
    "    \n",
    "    for i in range(len(storyline[1])):\n",
    "        storyline[1][i] = storyline[1][i] / max_value\n",
    "        \n",
    "    return storyline"
   ]
  },
  {
   "cell_type": "code",
   "execution_count": 46,
   "metadata": {},
   "outputs": [],
   "source": [
    "# Getting Average Values\n",
    "def average_values(x_and_y):\n",
    "    x_array = []\n",
    "    y_array = []\n",
    "    \n",
    "    for i in range(len(x_and_y[1])):\n",
    "        if i == 0:\n",
    "            x_array.append(x_and_y[0][i])\n",
    "            y_array.append((x_and_y[1][i]+x_and_y[1][i+1])/2)\n",
    "        elif i == len(x_and_y[1])-1:\n",
    "            x_array.append(x_and_y[0][i])\n",
    "            y_array.append((x_and_y[1][i]+x_and_y[1][i-1])/2)\n",
    "        else:\n",
    "            x_array.append(x_and_y[0][i])\n",
    "            y_array.append((x_and_y[1][i-1]+x_and_y[1][i]+x_and_y[1][i+1])/3)\n",
    "    \n",
    "    max_value = max([abs(min(y_array)),abs(max(y_array))])\n",
    "    for i in range(len(y_array)):\n",
    "        y_array[i] = y_array[i] / max_value\n",
    "    \n",
    "    \n",
    "    return [x_array, y_array]"
   ]
  },
  {
   "cell_type": "code",
   "execution_count": 47,
   "metadata": {},
   "outputs": [],
   "source": [
    "# Get mean shape of multiple texts\n",
    "def mean_plot(plotlines):\n",
    "    total_x = []\n",
    "    total_y = {}\n",
    "    \n",
    "    for plot in plotlines:\n",
    "        for i in range(len(plot[0])):\n",
    "            if plot[0][i] in total_x:\n",
    "                total_y[plot[0][i]].append(plot[1][i])\n",
    "            else:\n",
    "                total_y[plot[0][i]] = [plot[1][i]]\n",
    "                total_x.append(plot[0][i])\n",
    "                       \n",
    "    avg_x = sorted(total_x)\n",
    "    temp_y = [(arr, np.average(total_y[arr])) for arr in list(total_y.keys())]\n",
    "    temp_y2 = sorted(temp_y, key=lambda tup: tup[0])\n",
    "    avg_y = [tup[1] for tup in temp_y2]\n",
    "    \n",
    "    return [avg_x, avg_y]"
   ]
  },
  {
   "cell_type": "markdown",
   "metadata": {},
   "source": [
    "---\n",
    "### Plotlines in words\n",
    "- some text generation based off the plotlines"
   ]
  },
  {
   "cell_type": "code",
   "execution_count": 67,
   "metadata": {},
   "outputs": [],
   "source": [
    "# Get paragraph qualities\n",
    "def para_qualities(input_plot):\n",
    "    para_vals = []  \n",
    "    xs = input_plot[0]\n",
    "    ys = input_plot[1]\n",
    "    len_ys = len(ys)\n",
    "    biggest = max(abs(min(ys)),abs(max(ys)))    \n",
    "    \n",
    "    for i in range(len_ys):\n",
    "        if i > 0 and i < len_ys-1:\n",
    "            if abs(ys[i-1]) <= abs(ys[i]) <= abs(ys[i+1]):\n",
    "                continue\n",
    "            if abs(ys[i-1]) >= abs(ys[i]) >= abs(ys[i+1]):\n",
    "                continue\n",
    "        \n",
    "        para_val = \"\"\n",
    "        y_val = abs(ys[i])\n",
    "        \n",
    "        if y_val == 0.0:\n",
    "            para_vals.append(\"neutral\")\n",
    "            continue\n",
    "        \n",
    "        if y_val < 0.25:\n",
    "            para_val += \"a little \"\n",
    "        elif y_val < 0.5:\n",
    "            para_val += \"kinda \"\n",
    "        elif y_val < 0.75:\n",
    "            para_val += \"\"\n",
    "        elif y_val < 1.0:\n",
    "            para_val += \"very \"\n",
    "        else:\n",
    "            para_val += \"most \"\n",
    "        \n",
    "        if ys[i] < 0.0:\n",
    "            para_val += \"bad\"\n",
    "        elif ys[i] > 0.0:\n",
    "            para_val += \"good\"\n",
    "        \n",
    "        para_vals.append((xs[i], y_val, para_val))\n",
    "    \n",
    "    return para_vals\n",
    "            "
   ]
  },
  {
   "cell_type": "code",
   "execution_count": null,
   "metadata": {},
   "outputs": [],
   "source": []
  },
  {
   "cell_type": "markdown",
   "metadata": {},
   "source": [
    "---\n",
    "### Testing"
   ]
  },
  {
   "cell_type": "code",
   "execution_count": 111,
   "metadata": {},
   "outputs": [],
   "source": [
    "def get_story_summary(input_txt, title, para_delimiter=\"\\n\", moderate_num=20, limit=0):\n",
    "    storyline = get_plot_struct(input_txt, para_delimiter=para_delimiter)\n",
    "\n",
    "    moderated = storyline\n",
    "    for i in range(0,moderate_num):\n",
    "        moderated = average_values(moderated)\n",
    "        \n",
    "    no_space_before = \".,”’;!?'-:\"\n",
    "    no_space_after = \"“’`-\"\n",
    "\n",
    "    init_plotline = para_qualities(moderated)\n",
    "    if limit == 0:\n",
    "        plotline = init_plotline\n",
    "    else:\n",
    "        temp_plotline = sorted(init_plotline, key = lambda tup: tup[1])\n",
    "        plotline = sorted(temp_plotline[:limit], key = lambda tup: tup[0])\n",
    "\n",
    "    para_list = tokenize_paragraphs(input_txt.split(para_delimiter))\n",
    "    important_paras = [para_list[spot[0]] for spot in plotline]\n",
    "    for para in important_paras:\n",
    "        for i in range(len(para)):\n",
    "            sent = para[i]\n",
    "            new_sent = []\n",
    "            for j in range(len(sent)):\n",
    "                if sent[j] in no_space_before and len(new_sent) > 0:\n",
    "                    new_sent[-1] += sent[j]\n",
    "                elif j > 0 and sent[j-1] in no_space_after:\n",
    "                    new_sent[-1] += sent[j]\n",
    "                else:\n",
    "                    new_sent.append(sent[j])\n",
    "            para[i] = new_sent    \n",
    "    \n",
    "    first_last_sents = [\" \".join([\" \".join(sent) for sent in para]) for para in important_paras]\n",
    "    summary = \"Summary: \\n\\n\" + \"\\n\\n\".join(first_last_sents)\n",
    "    \n",
    "    chars = get_things(input_txt, \"PERSON\")\n",
    "    char_list = [\" - \" + char[0] for char in chars]\n",
    "    if len(char_list) <= (10 if limit == 0 else limit):\n",
    "        characters = \"Main Characters: \\n\" + \"\\n\".join(char_list)\n",
    "    else:\n",
    "        characters = \"Main Characters: \\n\" + \"\\n\".join(char_list[:(10 if limit == 0 else limit)])\n",
    "    \n",
    "    locs = get_things(input_txt, \"GPE\")\n",
    "    locs += get_things(input_txt, \"LOC\")\n",
    "    filtered_locs = [\" - \" + loc[0][0].upper() + loc[0][1:] \n",
    "                         for loc in locs if loc[0] not in characters]\n",
    "    if len(filtered_locs) <= (10 if limit == 0 else limit):\n",
    "        locations = \"Locations: \\n\" + \"\\n\".join(filtered_locs)\n",
    "    else:\n",
    "        locations = \"Locations: \\n\" + \"\\n\".join(filtered_locs[:(10 if limit == 0 else limit)])\n",
    "    \n",
    "    return_string = title + \" \\n\\n\"\n",
    "    return_string += characters + \"\\n\\n\"\n",
    "    return_string += locations + \"\\n\\n\"\n",
    "    return_string += summary\n",
    "    \n",
    "    return return_string"
   ]
  },
  {
   "cell_type": "code",
   "execution_count": 112,
   "metadata": {},
   "outputs": [],
   "source": [
    "cthulhu_summary = get_story_summary(cthulhu_str, \"The Call of Cthulhu\", limit = 5)"
   ]
  },
  {
   "cell_type": "code",
   "execution_count": 113,
   "metadata": {},
   "outputs": [
    {
     "name": "stdout",
     "output_type": "stream",
     "text": [
      "The Call of Cthulhu \n",
      "\n",
      "Main Characters: \n",
      " - Angell\n",
      " - Legrasse\n",
      " - Wilcox\n",
      " - Castro\n",
      " - Alert\n",
      "\n",
      "Locations: \n",
      " - Johansen\n",
      " - New Orleans\n",
      " - London\n",
      " - Greenland\n",
      " - S. Latitude\n",
      "\n",
      "Summary: \n",
      "\n",
      "The writing accompanying this oddity was, aside from a stack of press cuttings, in Professor Angell’s most recent hand; and made no pretence to literary style. What seemed to be the main document was headed “CTHULHU CULT” in characters painstakingly printed to avoid the erroneous reading of a word so unheard-of. The manuscript was divided into two sections, the first of which was headed “1925—Dream and Dream Work of H. A. Wilcox, 7 Thomas St., Providence, R.I.”, and the second, “Narrative of Inspector John R. Legrasse, 121 Bienville St., New Orleans, La., at 1908 A. A. S. Mtg.—Notes on Same, & Prof. Webb’s Acct.” The other manuscript papers were all brief notes, some of them accounts of the queer dreams of different persons, some of them citations from theosophical books and magazines ( notably W. Scott-Elliot’s Atlantis and the Lost Lemuria ), and the rest comments on long-surviving secret societies and hidden cults, with references to passages in such mythological and anthropological source-books as Frazer’s Golden Bough and Miss Murray’s Witch-Cult in Western Europe. The cuttings largely alluded to outré mental illnesses and outbreaks of group folly or mania in the spring of 1925.\n",
      "\n",
      "And now, in response to a general and urgent demand, Inspector Legrasse related as fully as possible his experience with the swamp worshippers; telling a story to which I could see my uncle attached profound significance. It savoured of the wildest dreams of myth-maker and theosophist, and disclosed an astonishing degree of cosmic imagination among such half-castes and pariahs as might be least expected to possess it.\n",
      "\n",
      "Old Castro remembered bits of hideous legend that paled the speculations of theosophists and made man and the world seem recent and transient indeed. There had been aeons when other Things ruled on the earth, and They had had great cities. Remains of Them, he said the deathless Chinamen had told him, were still to be found as Cyclopean stones on islands in the Pacific. They all died vast epochs of time before men came, but there were arts which could revive Them when the stars had come round again to the right positions in the cycle of eternity. They had, indeed, come themselves from the stars, and brought Their images with Them.\n",
      "\n",
      "The feverish interest aroused at the meeting by Legrasse’s tale, corroborated as it was by the statuette, is echoed in the subsequent correspondence of those who attended; although scant mention occurs in the formal publications of the society. Caution is the first care of those accustomed to face occasional charlatanry and imposture. Legrasse for some time lent the image to Professor Webb, but at the latter’s death it was returned to him and remains in his possession, where I viewed it not long ago. It is truly a terrible thing, and unmistakably akin to the dream-sculpture of young Wilcox.\n",
      "\n",
      "He talked of his dreams in a strangely poetic fashion; making me see with terrible vividness the damp Cyclopean city of slimy green stone—whose geometry, he oddly said, was all wrong—and hear with frightened expectancy the ceaseless, half-mental calling from underground: “Cthulhu fhtagn”, “Cthulhu fhtagn”. These words had formed part of that dread ritual which told of dead Cthulhu’s dream-vigil in his stone vault at R’lyeh, and I felt deeply moved despite my rational beliefs. Wilcox, I was sure, had heard of the cult in some casual way, and had soon forgotten it amidst the mass of his equally weird reading and imagining. Later, by virtue of its sheer impressiveness, it had found subconscious expression in dreams, in the bas-relief, and in the terrible statue I now beheld; so that his imposture upon my uncle had been a very innocent one. The youth was of a type, at once slightly affected and slightly ill-mannered, which I could never like; but I was willing enough now to admit both his genius and his honesty. I took leave of him amicably, and wish him all the success his talent promises.\n"
     ]
    }
   ],
   "source": [
    "print(cthulhu_summary)"
   ]
  },
  {
   "cell_type": "code",
   "execution_count": 114,
   "metadata": {},
   "outputs": [],
   "source": [
    "color_summary = get_story_summary(color_str, \"The Color Out of Space\", limit = 5)"
   ]
  },
  {
   "cell_type": "code",
   "execution_count": 115,
   "metadata": {},
   "outputs": [
    {
     "name": "stdout",
     "output_type": "stream",
     "text": [
      "The Color Out of Space \n",
      "\n",
      "Main Characters: \n",
      " - Nahum\n",
      " - Ammi\n",
      " - Gardner\n",
      " - Merwin\n",
      " - ye\n",
      "\n",
      "Locations: \n",
      " - Arkham\n",
      " - Zenas\n",
      " - Thaddeus\n",
      " - Boston\n",
      " - Valley\n",
      "\n",
      "Summary: \n",
      "\n",
      "West of Arkham the hills rise wild, and there are valleys with deep woods that no axe has ever cut. There are dark narrow glens where the trees slope fantastically, and where thin brooklets trickle without ever having caught the glint of sunlight. On the gentler slopes there are farms, ancient and rocky, with squat, moss-coated cottages brooding eternally over old New England secrets in the lee of great ledges; but these are all vacant now, the wide chimneys crumbling and the shingled sides bulging perilously beneath low gambrel roofs.\n",
      "\n",
      "It all began, old Ammi said, with the meteorite. Before that time there had been no wild legends at all since the witch trials, and even then these western woods were not feared half so much as the small island in the Miskatonic where the devil held court beside a curious stone altar older than the Indians. These were not haunted woods, and their fantastic dusk was never terrible till the strange days. Then there had come that white noontide cloud, that string of explosions in the air, and that pillar of smoke from the valley far in the wood. And by night all Arkham had heard of the great rock that fell out of the sky and bedded itself in the ground beside the well at the Nahum Gardner place. That was the house which had stood where the blasted heath was to come—the trim white Nahum Gardner house amidst its fertile gardens and orchards.\n",
      "\n",
      "The trees budded prematurely around Nahum’s, and at night they swayed ominously in the wind. Nahum’s second son Thaddeus, a lad of fifteen, swore that they swayed also when there was no wind; but even the gossips would not credit this. Certainly, however, restlessness was in the air. The entire Gardner family developed the habit of stealthy listening, though not for any sound which they could consciously name. The listening was, indeed, rather a product of moments when consciousness seemed half to slip away. Unfortunately such moments increased week by week, till it became common speech that “something was wrong with all Nahum’s folks”. When the early saxifrage came out it had another strange colour; not quite like that of the skunk-cabbage, but plainly related and equally unknown to anyone who saw it. Nahum took some blossoms to Arkham and shewed them to the editor of the Gazette, but that dignitary did no more than write a humorous article about them, in which the dark fears of rustics were held up to polite ridicule. It was a mistake of Nahum’s to tell a stolid city man about the way the great, overgrown mourning-cloak butterflies behaved in connexion with these saxifrages.\n",
      "\n",
      "It was a little before this that the horses had stampeded. Something had aroused them in the night, and their neighing and kicking in their stalls had been terrible. There seemed virtually nothing to do to calm them, and when Nahum opened the stable door they all bolted out like frightened woodland deer. It took a week to track all four, and when found they were seen to be quite useless and unmanageable. Something had snapped in their brains, and each one had to be shot for its own good. Nahum borrowed a horse from Ammi for his haying, but found it would not approach the barn. It shied, balked, and whinnied, and in the end he could do nothing but drive it into the yard while the men used their own strength to get the heavy wagon near enough the hayloft for convenient pitching. And all the while the vegetation was turning grey and brittle. Even the flowers whose hues had been so strange were greying now, and the fruit was coming out grey and dwarfed and tasteless. The asters and goldenrod bloomed grey and distorted, and the roses and zinneas and hollyhocks in the front yard were such blasphemous-looking things that Nahum’s oldest boy Zenas cut them down. The strangely puffed insects died about that time, even the bees that had left their hives and taken to the woods.\n",
      "\n",
      "I doubt very much if Ammi consciously lied to me, and I do not think his tale was all a freak of madness as the townfolk had forewarned. Something terrible came to the hills and valleys on that meteor, and something terrible—though I know not in what proportion—still remains. I shall be glad to see the water come. Meanwhile I hope nothing will happen to Ammi. He saw so much of the thing—and its influence was so insidious. Why has he never been able to move away? How clearly he recalled those dying words of Nahum’s— “can’t git away. draws ye. ye know summ’at’s comin’, but’tain’t no use. .” Ammi is such a good old man—when the reservoir gang gets to work I must write the chief engineer to keep a sharp watch on him. I would hate to think of him as the grey, twisted, brittle monstrosity which persists more and more in troubling my sleep.\n"
     ]
    }
   ],
   "source": [
    "print(color_summary)"
   ]
  },
  {
   "cell_type": "code",
   "execution_count": 116,
   "metadata": {},
   "outputs": [
    {
     "data": {
      "text/plain": [
       "['austen-emma.txt',\n",
       " 'austen-persuasion.txt',\n",
       " 'austen-sense.txt',\n",
       " 'bible-kjv.txt',\n",
       " 'blake-poems.txt',\n",
       " 'bryant-stories.txt',\n",
       " 'burgess-busterbrown.txt',\n",
       " 'carroll-alice.txt',\n",
       " 'chesterton-ball.txt',\n",
       " 'chesterton-brown.txt',\n",
       " 'chesterton-thursday.txt',\n",
       " 'edgeworth-parents.txt',\n",
       " 'melville-moby_dick.txt',\n",
       " 'milton-paradise.txt',\n",
       " 'shakespeare-caesar.txt',\n",
       " 'shakespeare-hamlet.txt',\n",
       " 'shakespeare-macbeth.txt',\n",
       " 'whitman-leaves.txt']"
      ]
     },
     "execution_count": 116,
     "metadata": {},
     "output_type": "execute_result"
    }
   ],
   "source": [
    "gb.fileids()"
   ]
  },
  {
   "cell_type": "code",
   "execution_count": 117,
   "metadata": {},
   "outputs": [],
   "source": [
    "emma_str = gb.raw('austen-emma.txt')"
   ]
  },
  {
   "cell_type": "code",
   "execution_count": 118,
   "metadata": {},
   "outputs": [],
   "source": [
    "emma_summary = get_story_summary(emma_str, \"Emma by Jane Austen\", para_delimiter=\"\\n\\n\", limit = 5)"
   ]
  },
  {
   "cell_type": "code",
   "execution_count": 119,
   "metadata": {},
   "outputs": [
    {
     "name": "stdout",
     "output_type": "stream",
     "text": [
      "Emma by Jane Austen \n",
      "\n",
      "Main Characters: \n",
      " - Emma\n",
      " - Weston\n",
      " - Elton\n",
      " - Harriet\n",
      " - Knightley\n",
      "\n",
      "Locations: \n",
      " - London\n",
      " - Fairfax\n",
      " - Weymouth\n",
      " - Enscombe\n",
      " - Ireland\n",
      "\n",
      "Summary: \n",
      "\n",
      "`` But you must have found it very damp and dirty. I wish you may not catch cold. ''\n",
      "\n",
      "`` You saw her answer! -- you wrote her answer too. Emma, this is your doing. You persuaded her to refuse him. ''\n",
      "\n",
      "Before the middle of the next day, he was at Hartfield; and he entered the room with such an agreeable smile as certified the continuance of the scheme. It soon appeared that he came to announce an improvement.\n",
      "\n",
      "She spoke with great agitation; and Emma very feelingly replied, '' That can be no reason for your being exposed to danger now. I must order the carriage. The heat even would be danger. -- You are fatigued already. ''\n",
      "\n",
      "`` True, true, '' he answered, warmly. `` No, not true on your side. You can have no superior, but most true on mine. -- She is a complete angel. Look at her. Is not she an angel in every gesture? Observe the turn of her throat. Observe her eyes, as she is looking up at my father. -- You will be glad to hear ( inclining his head, and whispering seriously ) that my uncle means to give her all my aunt 's jewels. They are to be new set. I am resolved to have some in an ornament for the head. Will not it be beautiful in her dark hair? ''\n"
     ]
    }
   ],
   "source": [
    "print(emma_summary)"
   ]
  },
  {
   "cell_type": "code",
   "execution_count": 120,
   "metadata": {},
   "outputs": [],
   "source": [
    "whitman_str = gb.raw(\"whitman-leaves.txt\")"
   ]
  },
  {
   "cell_type": "code",
   "execution_count": 121,
   "metadata": {},
   "outputs": [],
   "source": [
    "whitman_summary = get_story_summary(whitman_str, \"Leaves of Grass by Walt Whitman\", para_delimiter=\"\\n\\n\", limit = 5)"
   ]
  },
  {
   "cell_type": "code",
   "execution_count": 122,
   "metadata": {},
   "outputs": [
    {
     "name": "stdout",
     "output_type": "stream",
     "text": [
      "Leaves of Grass by Walt Whitman \n",
      "\n",
      "Main Characters: \n",
      " - Nature\n",
      " - Mannahatta\n",
      " - ye\n",
      " - lo\n",
      " - Walt Whitman\n",
      "\n",
      "Locations: \n",
      " - America\n",
      " - States\n",
      " - Thou\n",
      " - Manhattan\n",
      " - Thee\n",
      "\n",
      "Summary: \n",
      "\n",
      "I tramp a perpetual journey, ( come listen all! ) My signs are a rain-proof coat, good shoes, and a staff cut from the woods, No friend of mine takes his ease in my chair, I have no chair, no church, no philosophy, I lead no man to a dinner-table, library, exchange, But each man and each woman of you I lead upon a knoll, My left hand hooking you round the waist, My right hand pointing to landscapes of continents and the public road.\n",
      "\n",
      "This day before dawn I ascended a hill and look 'd at the crowded heaven, And I said to my spirit When we become the enfolders of those orbs, and the pleasure and knowledge of every thing in them, shall we be fill 'd and satisfied then? And my spirit said No, we but level that lift to pass and continue beyond.\n",
      "\n",
      "I teach straying from me, yet who can stray from me? I follow you whoever you are from the present hour, My words itch at your ears till you understand them.\n",
      "\n",
      "4 But hold -- do n't I forget my manners? To introduce the stranger, ( what else indeed do I live to chant for? ) to thee Columbia; In liberty 's name welcome immortal! clasp hands, And ever henceforth sisters dear be both.\n",
      "\n",
      "Thou orb aloft full-dazzling! thou hot October noon! Flooding with sheeny light the gray beach sand, The sibilant near sea with vistas far and foam, And tawny streaks and shades and spreading blue; O sun of noon refulgent! my special word to thee.\n"
     ]
    }
   ],
   "source": [
    "print(whitman_summary)"
   ]
  },
  {
   "cell_type": "code",
   "execution_count": 123,
   "metadata": {},
   "outputs": [],
   "source": [
    "hamlet_str = gb.raw(\"shakespeare-hamlet.txt\")"
   ]
  },
  {
   "cell_type": "code",
   "execution_count": 124,
   "metadata": {},
   "outputs": [],
   "source": [
    "hamlet_summary = get_story_summary(hamlet_str, \"Hamlet by Shakespeare\", para_delimiter=\"\\n\\n\", limit = 5)"
   ]
  },
  {
   "cell_type": "code",
   "execution_count": 125,
   "metadata": {},
   "outputs": [
    {
     "name": "stdout",
     "output_type": "stream",
     "text": [
      "Hamlet by Shakespeare \n",
      "\n",
      "Main Characters: \n",
      " - Hor\n",
      " - Laer\n",
      " - Qu\n",
      " - Ophe\n",
      " - Pol\n",
      "\n",
      "Locations: \n",
      " - Heauen\n",
      " - England\n",
      " - Horatio\n",
      " - Soule\n",
      " - Ophelia\n",
      "\n",
      "Summary: \n",
      "\n",
      "Mar. Is it not like the King? As thou art to thy selfe, Such was the very Armour he had on, When th' Ambitious Norwey combatted: So frown 'd he once, when in an angry parle He smot the sledded Pollax on the Ice. 'T is strange\n",
      "\n",
      "King. Though yet of Hamlet our deere Brothers death The memory be greene: and that it vs befitted To beare our hearts in greefe, and our whole Kingdome To be contracted in one brow of woe: Yet so farre hath Discretion fought with Nature, That we with wisest sorrow thinke on him, Together with remembrance of our selues. Therefore our sometimes Sister, now our Queene, Th' imperiall Ioyntresse of this warlike State, Haue we, as 'twere, with a defeated ioy, With one Auspicious, and one Dropping eye, With mirth in Funerall, and with Dirge in Marriage, In equall Scale weighing Delight and Dole Taken to Wife; nor haue we heerein barr'd Your better Wisedomes, which haue freely gone With this affaire along, for all our Thankes. Now followes, that you know young Fortinbras, Holding a weake supposall of our worth; Or thinking by our late deere Brothers death, Our State to be disioynt, and out of Frame, Colleagued with the dreame of his Aduantage; He hath not fayl 'd to pester vs with Message, Importing the surrender of those Lands Lost by his Father: with all Bonds of Law To our most valiant Brother. So much for him. Enter Voltemand and Cornelius.\n",
      "\n",
      "Ophe. I shall th' effect of this good Lesson keepe, As watchmen to my heart: but good my Brother Doe not as some vngracious Pastors doe, Shew me the steepe and thorny way to Heauen; Whilst like a puft and recklesse Libertine Himselfe, the Primrose path of dalliance treads, And reaks not his owne reade\n",
      "\n",
      "Polon. With what, in the name of Heauen? Ophe. My Lord, as I was sowing in my Chamber, Lord Hamlet with his doublet all vnbrac 'd, No hat vpon his head, his stockings foul 'd, Vngartred, and downe giued to his Anckle, Pale as his shirt, his knees knocking each other, And with a looke so pitious in purport, As if he had been loosed out of hell, To speake of horrors: he comes before me\n",
      "\n",
      "Qu. Good Gentlemen, he hath much talk 'd of you, And sure I am, two men there are not liuing, To whom he more adheres. If it will please you To shew vs so much Gentrie, and good will, As to expend your time with vs a-while, For the supply and profit of our Hope, Your Visitation shall receiue such thankes As fits a Kings remembrance\n"
     ]
    }
   ],
   "source": [
    "print(hamlet_summary)"
   ]
  },
  {
   "cell_type": "code",
   "execution_count": null,
   "metadata": {},
   "outputs": [],
   "source": []
  }
 ],
 "metadata": {
  "kernelspec": {
   "display_name": "Python 3",
   "language": "python",
   "name": "python3"
  },
  "language_info": {
   "codemirror_mode": {
    "name": "ipython",
    "version": 3
   },
   "file_extension": ".py",
   "mimetype": "text/x-python",
   "name": "python",
   "nbconvert_exporter": "python",
   "pygments_lexer": "ipython3",
   "version": "3.7.3"
  }
 },
 "nbformat": 4,
 "nbformat_minor": 2
}
